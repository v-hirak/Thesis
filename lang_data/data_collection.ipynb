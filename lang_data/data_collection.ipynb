{
 "cells": [
  {
   "cell_type": "markdown",
   "metadata": {},
   "source": [
    "# Language Data Collection"
   ]
  },
  {
   "cell_type": "markdown",
   "metadata": {},
   "source": [
    "Here I collect data on the languages in the FLORES+ dataset."
   ]
  },
  {
   "cell_type": "code",
   "execution_count": 2,
   "metadata": {},
   "outputs": [],
   "source": [
    "import pandas as pd"
   ]
  },
  {
   "cell_type": "markdown",
   "metadata": {},
   "source": [
    "## Initializing Language Data"
   ]
  },
  {
   "cell_type": "markdown",
   "metadata": {},
   "source": [
    "The FLORES+ dataset can be downloaded [here](https://github.com/openlanguagedata/flores)."
   ]
  },
  {
   "cell_type": "code",
   "execution_count": null,
   "metadata": {},
   "outputs": [],
   "source": [
    "from flores import Flores"
   ]
  },
  {
   "cell_type": "code",
   "execution_count": null,
   "metadata": {},
   "outputs": [],
   "source": [
    "flores = Flores(\"../floresp-v2.0-rc.2/\")"
   ]
  },
  {
   "cell_type": "code",
   "execution_count": null,
   "metadata": {},
   "outputs": [],
   "source": [
    "langs = sorted(flores.langs[\"dev\"])\n",
    "codes = [lang.split(\"_\")[0] for lang in langs]\n",
    "scripts = [lang.split(\"_\")[1] for lang in langs]\n",
    "\n",
    "lang_data = pd.DataFrame({\"lang\": langs, \"iso_code\": codes, \"script\": scripts})"
   ]
  },
  {
   "cell_type": "code",
   "execution_count": null,
   "metadata": {},
   "outputs": [],
   "source": [
    "df_sheet = pd.read_csv(\"flores_langs.csv\")\n",
    "lang_data[\"variety\"] = df_sheet[\"variety\"]\n",
    "lang_data[\"name\"] = df_sheet[\"name\"]"
   ]
  },
  {
   "cell_type": "code",
   "execution_count": null,
   "metadata": {},
   "outputs": [],
   "source": [
    "lang_data.to_csv(\"lang_data.csv\", index=False)"
   ]
  },
  {
   "cell_type": "markdown",
   "metadata": {},
   "source": [
    "## Estimated Portion in Training Data"
   ]
  },
  {
   "cell_type": "code",
   "execution_count": null,
   "metadata": {},
   "outputs": [],
   "source": [
    "lang_data = pd.read_csv(\"lang_data.csv\")"
   ]
  },
  {
   "cell_type": "code",
   "execution_count": null,
   "metadata": {},
   "outputs": [],
   "source": [
    "train_estimates = (\n",
    "    pd.read_csv(\"lang_train_size.csv\")\n",
    "    [[\"lang\", \"fraction_total\"]]\n",
    ")"
   ]
  },
  {
   "cell_type": "code",
   "execution_count": null,
   "metadata": {},
   "outputs": [],
   "source": [
    "lang_data = (\n",
    "    lang_data.merge(train_estimates, on=\"lang\", how=\"left\")\n",
    "    .rename(columns={\"fraction_total\": \"train_frac_estimate\"})\n",
    ")"
   ]
  },
  {
   "cell_type": "code",
   "execution_count": null,
   "metadata": {},
   "outputs": [],
   "source": [
    "lang_data[\"train_frac_estimate\"] = lang_data[\"train_frac_estimate\"].fillna(0)"
   ]
  },
  {
   "cell_type": "code",
   "execution_count": null,
   "metadata": {},
   "outputs": [],
   "source": [
    "lang_data.to_csv(\"lang_data.csv\", index=False)"
   ]
  },
  {
   "cell_type": "markdown",
   "metadata": {},
   "source": [
    "## WALS Codes"
   ]
  },
  {
   "cell_type": "markdown",
   "metadata": {},
   "source": [
    "WALS data can be found [here](https://github.com/cldf-datasets/wals)."
   ]
  },
  {
   "cell_type": "code",
   "execution_count": null,
   "metadata": {},
   "outputs": [],
   "source": [
    "wals_langs = pd.read_csv(\"wals_langs.csv\")[:2662]"
   ]
  },
  {
   "cell_type": "code",
   "execution_count": null,
   "metadata": {},
   "outputs": [],
   "source": [
    "wals_codes = []\n",
    "\n",
    "for iso in lang_data[\"iso_code\"]:\n",
    "    wals_code = wals_langs.loc[wals_langs[\"ISO639P3code\"] == iso, \"ID\"].values\n",
    "    wals_codes.append(list(wals_code))\n",
    "\n",
    "wals_codes = [code[0] if len(code) == 1 else code for code in wals_codes]"
   ]
  },
  {
   "cell_type": "code",
   "execution_count": null,
   "metadata": {},
   "outputs": [],
   "source": [
    "lang_data[\"wals_code\"] = wals_codes"
   ]
  },
  {
   "cell_type": "code",
   "execution_count": null,
   "metadata": {},
   "outputs": [],
   "source": [
    "lang_data.to_csv(\"lang_data.csv\", index=False)"
   ]
  },
  {
   "cell_type": "markdown",
   "metadata": {},
   "source": [
    "## WALS Family & Genus"
   ]
  },
  {
   "cell_type": "code",
   "execution_count": null,
   "metadata": {},
   "outputs": [],
   "source": [
    "lang_data = pd.read_csv(\"lang_data.csv\")"
   ]
  },
  {
   "cell_type": "code",
   "execution_count": null,
   "metadata": {},
   "outputs": [],
   "source": [
    "wals_langs = (\n",
    "    pd.read_csv(\"wals_langs.csv\")[:2662]\n",
    "    .rename(columns={\"ID\": \"wals_code\", \"Family\": \"family\", \"Genus\": \"genus\"})\n",
    ")"
   ]
  },
  {
   "cell_type": "code",
   "execution_count": null,
   "metadata": {},
   "outputs": [],
   "source": [
    "genus_family = wals_langs[[\"wals_code\", \"family\", \"genus\"]]\n",
    "lang_data = lang_data.merge(genus_family, on=\"wals_code\", how=\"left\")"
   ]
  },
  {
   "cell_type": "code",
   "execution_count": null,
   "metadata": {},
   "outputs": [],
   "source": [
    "lang_data.to_csv(\"lang_data.csv\", index=False)"
   ]
  },
  {
   "cell_type": "markdown",
   "metadata": {},
   "source": [
    "## WALS Morphological Features"
   ]
  },
  {
   "cell_type": "code",
   "execution_count": null,
   "metadata": {},
   "outputs": [],
   "source": [
    "lang_data = pd.read_csv(\"lang_data.csv\")\n",
    "wals_feats = pd.read_csv(\"wals_feats.csv\")"
   ]
  },
  {
   "cell_type": "code",
   "execution_count": null,
   "metadata": {},
   "outputs": [],
   "source": [
    "# Keep only languages from lang_data\n",
    "wals_feats = wals_feats[wals_feats[\"Language_ID\"].isin(lang_data[\"wals_code\"])]"
   ]
  },
  {
   "cell_type": "code",
   "execution_count": null,
   "metadata": {},
   "outputs": [],
   "source": [
    "# Keep only morphological features (as per Park et al.)\n",
    "MORPH_FEATS = [\"20A\", \"21A\", \"21B\", \"22A\", \"23A\", \"24A\", \"25A\", \"25B\", \"26A\",\n",
    "               \"27A\", \"28A\", \"29A\"]\n",
    "\n",
    "wals_feats = wals_feats[wals_feats[\"Parameter_ID\"].isin(MORPH_FEATS)]"
   ]
  },
  {
   "cell_type": "code",
   "execution_count": null,
   "metadata": {},
   "outputs": [],
   "source": [
    "# Add morphological features to lang_data\n",
    "for idx, row in lang_data.iterrows():\n",
    "    wals_code = row[\"wals_code\"]\n",
    "    if isinstance(wals_code, float): continue  # Skip rows without a WALS code\n",
    "    for feat in MORPH_FEATS:\n",
    "        value_id = f\"{feat}-{wals_code}\"\n",
    "        values = wals_feats.loc[wals_feats[\"ID\"] == value_id][\"Value\"].values\n",
    "        value = values[0] if values else None\n",
    "        lang_data.loc[idx, feat] = value"
   ]
  },
  {
   "cell_type": "markdown",
   "metadata": {},
   "source": [
    "## Complexity Measures"
   ]
  },
  {
   "cell_type": "markdown",
   "metadata": {},
   "source": [
    "[Paper](https://www.degruyter.com/document/doi/10.1515/lingvan-2021-0007/html?lang=en#j_lingvan-2021-0007_ref_059) | [Repository](https://github.com/coltekin/mcomplexity)"
   ]
  },
  {
   "cell_type": "code",
   "execution_count": null,
   "metadata": {},
   "outputs": [],
   "source": [
    "lang_data = pd.read_csv(\"lang_data.csv\")"
   ]
  },
  {
   "cell_type": "code",
   "execution_count": null,
   "metadata": {},
   "outputs": [],
   "source": [
    "compl_scores = (\n",
    "    pd.read_csv(\"complexity-scores.txt\", sep=\"\\t\")\n",
    "    .rename(columns={\"WALS_code\": \"wals_code\"})\n",
    "    .drop(columns=[\"treebank\"])\n",
    "    # Average complexity scores for languages with multiple treebanks\n",
    "    .groupby(\"wals_code\", as_index=False).mean()\n",
    ")"
   ]
  },
  {
   "cell_type": "code",
   "execution_count": null,
   "metadata": {},
   "outputs": [],
   "source": [
    "lang_data = lang_data.merge(compl_scores, on=\"wals_code\", how=\"left\")"
   ]
  },
  {
   "cell_type": "code",
   "execution_count": null,
   "metadata": {},
   "outputs": [],
   "source": [
    "lang_data.to_csv(\"lang_data.csv\", index=False)"
   ]
  },
  {
   "cell_type": "markdown",
   "metadata": {},
   "source": [
    "## Type-Token Ratio on FLORES"
   ]
  },
  {
   "cell_type": "code",
   "execution_count": null,
   "metadata": {},
   "outputs": [],
   "source": [
    "from lexicalrichness import LexicalRichness"
   ]
  },
  {
   "cell_type": "code",
   "execution_count": null,
   "metadata": {},
   "outputs": [],
   "source": [
    "lang_data = pd.read_csv(\"lang_data.csv\")"
   ]
  },
  {
   "cell_type": "code",
   "execution_count": null,
   "metadata": {},
   "outputs": [],
   "source": [
    "ttr_flores = []\n",
    "\n",
    "for lang in lang_data[\"lang\"]:\n",
    "    filename = f\"../floresp-v2.0-rc.2/dev/dev.{lang}\"\n",
    "    with open(filename, encoding=\"utf-8\") as f:\n",
    "        text = f.read()\n",
    "        lex = LexicalRichness(text)\n",
    "        ttr_flores.append(lex.ttr)"
   ]
  },
  {
   "cell_type": "code",
   "execution_count": null,
   "metadata": {},
   "outputs": [],
   "source": [
    "lang_data[\"ttr_flores\"] = ttr_flores"
   ]
  },
  {
   "cell_type": "code",
   "execution_count": null,
   "metadata": {},
   "outputs": [],
   "source": [
    "lang_data.to_csv(\"lang_data.csv\", index=False)"
   ]
  },
  {
   "cell_type": "markdown",
   "metadata": {},
   "source": [
    "## Syntactic Distances"
   ]
  },
  {
   "cell_type": "code",
   "execution_count": null,
   "metadata": {
    "vscode": {
     "languageId": "shellscript"
    }
   },
   "outputs": [],
   "source": [
    "git clone https://github.com/antonisa/lang2vec\n",
    "cd lang2vec\n",
    "python3 setup.py install"
   ]
  },
  {
   "cell_type": "code",
   "execution_count": 1,
   "metadata": {},
   "outputs": [],
   "source": [
    "import lang2vec.lang2vec as l2v"
   ]
  },
  {
   "cell_type": "code",
   "execution_count": 13,
   "metadata": {},
   "outputs": [],
   "source": [
    "lang_data = pd.read_csv(\"lang_data.csv\")"
   ]
  },
  {
   "cell_type": "code",
   "execution_count": 18,
   "metadata": {},
   "outputs": [],
   "source": [
    "iso_codes = lang_data[\"iso_code\"].tolist()\n",
    "d_syn = [l2v.distance(\"syntactic\", \"eng\", iso_code) for iso_code in iso_codes]\n",
    "lang_data[\"d_syn\"] = d_syn"
   ]
  },
  {
   "cell_type": "code",
   "execution_count": 23,
   "metadata": {},
   "outputs": [],
   "source": [
    "lang_data.to_csv(\"lang_data.csv\", index=False)"
   ]
  },
  {
   "cell_type": "markdown",
   "metadata": {},
   "source": [
    "## Word Order Entropy"
   ]
  },
  {
   "cell_type": "code",
   "execution_count": 10,
   "metadata": {},
   "outputs": [],
   "source": [
    "entropy_data = pd.read_csv(\"word_order_entropy.csv\")"
   ]
  },
  {
   "cell_type": "code",
   "execution_count": 39,
   "metadata": {},
   "outputs": [],
   "source": [
    "lang_data = pd.read_csv(\"lang_data.csv\")"
   ]
  },
  {
   "cell_type": "code",
   "execution_count": 23,
   "metadata": {},
   "outputs": [],
   "source": [
    "# Mapping of ISO 639-1 codes to ISO 639-3 codes\n",
    "ISO_MAP = {\"af\": \"afr\", \"ar\": \"ara\", \"be\": \"bel\", \"bg\": \"bul\", \"bxr\": \"bxr\",\n",
    "           \"ca\": \"cat\", \"cop\": \"cop\", \"cs\": \"ces\", \"cu\": \"chu\", \"da\": \"dan\",\n",
    "           \"de\": \"deu\", \"el\": \"ell\", \"en\": \"eng\", \"es\": \"spa\", \"et\": \"est\",\n",
    "           \"eu\": \"eus\", \"fa\": \"fas\", \"fi\": \"fin\", \"fr\": \"fra\", \"ga\": \"gle\",\n",
    "           \"gl\": \"glg\", \"got\": \"got\", \"grc\": \"grc\", \"he\": \"heb\", \"hi\": \"hin\",\n",
    "           \"hr\": \"hrv\", \"hsb\": \"hsb\", \"hu\": \"hun\", \"id\": \"ind\", \"it\": \"ita\",\n",
    "           \"ja\": \"jpn\", \"kk\": \"kaz\", \"kmr\": \"kmr\", \"ko\": \"kor\", \"la\": \"lat\",\n",
    "           \"lt\": \"lit\", \"lv\": \"lav\", \"mr\": \"mar\", \"nl\": \"nld\", \"no\": \"nor\",\n",
    "           \"pl\": \"pol\", \"pt\": \"por\", \"ro\": \"ron\", \"ru\": \"rus\", \"sa\": \"san\",\n",
    "           \"sk\": \"slk\", \"sl\": \"slv\", \"sme\": \"sme\", \"sr\": \"srp\", \"sv\": \"swe\",\n",
    "           \"swl\": \"swl\", \"ta\": \"tam\", \"te\": \"tel\", \"tr\": \"tur\", \"ug\": \"uig\",\n",
    "           \"uk\": \"ukr\", \"ur\": \"urd\", \"vi\": \"vie\", \"yue\": \"yue\", \"zh\": \"zho\"}"
   ]
  },
  {
   "cell_type": "code",
   "execution_count": null,
   "metadata": {},
   "outputs": [],
   "source": [
    "# Dependencies\n",
    "DEP_COLS = [\"adp_Noun\", \"aux_Verb\", \"nsubjNOUN_Pred\", \"nsubjPRON_Pred\",\n",
    "            \"objNOUN_Pred\", \"objPRON_Pred\", \"oblNOUN_Pred\", \"oblPRON_Pred\",\n",
    "            \"nmodNOUN_Noun\", \"nmodPRON_Noun\", \"amod_Noun\", \"advmod_Verb\",\n",
    "            \"advmod_Adj\", \"cop_Pred\", \"nummod_Noun\", \"det_Noun\", \"advcl_Main\",\n",
    "            \"acl_Noun\", \"ccomp_Main\", \"csubj_Main\", \"mark_advcl\", \"mark_ccomp\"]\n",
    "\n",
    "# Codependencies\n",
    "CODEP_COLS = [\"nsubj_obj\", \"obj_obl\"]"
   ]
  },
  {
   "cell_type": "code",
   "execution_count": 19,
   "metadata": {},
   "outputs": [],
   "source": [
    "entropy_data[\"iso_code\"] = entropy_data[\"Lang\"].map(ISO_MAP)"
   ]
  },
  {
   "cell_type": "code",
   "execution_count": null,
   "metadata": {},
   "outputs": [],
   "source": [
    "h_dep = entropy_data[[*DEP_COLS, \"iso_code\"]]  # Dependency entropy\n",
    "h_codep = entropy_data[[*CODEP_COLS, \"iso_code\"]]  # Codependency entropy\n",
    "\n",
    "h_dep[\"h_dep_avg\"] = h_dep.mean(axis=1)\n",
    "h_codep[\"h_codep_avg\"] = h_codep.mean(axis=1)"
   ]
  },
  {
   "cell_type": "code",
   "execution_count": 48,
   "metadata": {},
   "outputs": [],
   "source": [
    "lang_data = lang_data.merge(h_dep[[\"iso_code\", \"h_dep_avg\"]], on=\"iso_code\", how=\"left\")\n",
    "lang_data = lang_data.merge(h_codep[[\"iso_code\", \"h_codep_avg\"]], on=\"iso_code\", how=\"left\")"
   ]
  },
  {
   "cell_type": "code",
   "execution_count": 51,
   "metadata": {},
   "outputs": [],
   "source": [
    "lang_data.to_csv(\"lang_data.csv\", index=False)"
   ]
  },
  {
   "cell_type": "markdown",
   "metadata": {},
   "source": [
    "## Column Reordering"
   ]
  },
  {
   "cell_type": "code",
   "execution_count": 52,
   "metadata": {},
   "outputs": [],
   "source": [
    "lang_data = pd.read_csv(\"lang_data.csv\")"
   ]
  },
  {
   "cell_type": "code",
   "execution_count": 54,
   "metadata": {},
   "outputs": [],
   "source": [
    "lang_data = lang_data[[\"lang\", \"iso_code\", \"wals_code\", \"script\", \"variety\",\n",
    "                       \"name\", \"family\", \"genus\", \"d_syn\", \"train_frac_estimate\",\n",
    "                       \"20A\", \"21A\", \"21B\", \"22A\", \"23A\", \"24A\", \"25A\", \"25B\",\n",
    "                       \"26A\", \"27A\", \"28A\", \"29A\", \"ttr_flores\", \"ttr\", \"ttr_sd\",\n",
    "                       \"msp\", \"msp_sd\", \"ws\", \"ws_sd\", \"wh\", \"wh_sd\", \"lh\",\n",
    "                       \"lh_sd\", \"is\", \"is_sd\", \"mfh\", \"mfh_sd\", \"-ia\", \"-ia_sd\",\n",
    "                       \"h_dep_avg\", \"h_codep_avg\"]]"
   ]
  },
  {
   "cell_type": "code",
   "execution_count": 55,
   "metadata": {},
   "outputs": [],
   "source": [
    "lang_data.to_csv(\"lang_data.csv\", index=False)"
   ]
  }
 ],
 "metadata": {
  "kernelspec": {
   "display_name": "Python 3",
   "language": "python",
   "name": "python3"
  },
  "language_info": {
   "codemirror_mode": {
    "name": "ipython",
    "version": 3
   },
   "file_extension": ".py",
   "mimetype": "text/x-python",
   "name": "python",
   "nbconvert_exporter": "python",
   "pygments_lexer": "ipython3",
   "version": "3.11.7"
  }
 },
 "nbformat": 4,
 "nbformat_minor": 2
}
