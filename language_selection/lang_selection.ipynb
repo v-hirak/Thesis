{
 "cells": [
  {
   "cell_type": "markdown",
   "metadata": {},
   "source": [
    "# Language Selection"
   ]
  },
  {
   "cell_type": "code",
   "execution_count": 1,
   "metadata": {},
   "outputs": [],
   "source": [
    "import pandas as pd\n",
    "import scipy.stats as stats"
   ]
  },
  {
   "cell_type": "code",
   "execution_count": 2,
   "metadata": {},
   "outputs": [],
   "source": [
    "lang_data = pd.read_csv('../lang_data/lang_data.csv')"
   ]
  },
  {
   "cell_type": "markdown",
   "metadata": {},
   "source": [
    "## Union of Languages"
   ]
  },
  {
   "cell_type": "code",
   "execution_count": 3,
   "metadata": {},
   "outputs": [],
   "source": [
    "MORPH_FEATS = [\"20A\", \"21A\", \"21B\", \"22A\", \"23A\", \"24A\", \"25A\", \"25B\", \"26A\",\n",
    "               \"27A\", \"28A\", \"29A\"]"
   ]
  },
  {
   "cell_type": "code",
   "execution_count": 4,
   "metadata": {},
   "outputs": [],
   "source": [
    "morph_feat_langs = lang_data[lang_data[MORPH_FEATS].notna().sum(axis=1) >= 1]\n",
    "compl_measure_langs = lang_data[lang_data['ttr'].notna()]\n",
    "h_dep_langs = lang_data[lang_data[\"h_dep_avg\"].notna()]\n",
    "h_codep_langs = lang_data[lang_data[\"h_codep_avg\"].notna()]"
   ]
  },
  {
   "cell_type": "code",
   "execution_count": 5,
   "metadata": {},
   "outputs": [
    {
     "name": "stdout",
     "output_type": "stream",
     "text": [
      "125\n",
      "34\n",
      "45\n",
      "44\n"
     ]
    }
   ],
   "source": [
    "print(len(morph_feat_langs))\n",
    "print(len(compl_measure_langs))\n",
    "print(len(h_dep_langs))\n",
    "print(len(h_codep_langs))"
   ]
  },
  {
   "cell_type": "code",
   "execution_count": 14,
   "metadata": {},
   "outputs": [],
   "source": [
    "# Union of dataframes\n",
    "any_feat_langs = (\n",
    "    pd.concat(\n",
    "        [morph_feat_langs, compl_measure_langs, h_dep_langs, h_codep_langs],\n",
    "        ignore_index=True\n",
    "    )\n",
    "    .drop_duplicates(ignore_index=True)\n",
    ")"
   ]
  },
  {
   "cell_type": "code",
   "execution_count": 15,
   "metadata": {},
   "outputs": [],
   "source": [
    "any_feat_langs.to_csv(\"any_feat_langs.csv\", index=False)"
   ]
  },
  {
   "cell_type": "code",
   "execution_count": 18,
   "metadata": {},
   "outputs": [],
   "source": [
    "# Keep lang_data rows not in any_feat_langs based on \"lang\" columns\n",
    "no_feat_langs = lang_data[~lang_data[\"lang\"].isin(any_feat_langs[\"lang\"])]"
   ]
  },
  {
   "cell_type": "code",
   "execution_count": 20,
   "metadata": {},
   "outputs": [],
   "source": [
    "no_feat_langs.to_csv(\"no_feat_langs.csv\", index=False)"
   ]
  },
  {
   "cell_type": "code",
   "execution_count": 25,
   "metadata": {},
   "outputs": [],
   "source": [
    "ttr_langs = pd.read_csv(\"ttr_langs.csv\")"
   ]
  },
  {
   "cell_type": "code",
   "execution_count": 27,
   "metadata": {},
   "outputs": [],
   "source": [
    "# Keep any_feat_langs rows not in ttr_langs based on \"lang\" columns\n",
    "langs_to_translate = any_feat_langs[~any_feat_langs[\"lang\"].isin(ttr_langs[\"lang\"])]"
   ]
  },
  {
   "cell_type": "code",
   "execution_count": 29,
   "metadata": {},
   "outputs": [],
   "source": [
    "langs_to_translate.to_csv(\"langs_to_translate.csv\", index=False)"
   ]
  },
  {
   "cell_type": "markdown",
   "metadata": {},
   "source": [
    "## Creating Translation Jobs"
   ]
  },
  {
   "cell_type": "code",
   "execution_count": 37,
   "metadata": {},
   "outputs": [],
   "source": [
    "JOB_TEMPLATE = \"\"\"#!/bin/bash\n",
    "\n",
    "#SBATCH --time=00:60:00\n",
    "#SBATCH --partition=gpu\n",
    "#SBATCH --job-name={lang}\n",
    "#SBATCH --mem=64G\n",
    "#SBATCH --gpus-per-node=1\n",
    "\n",
    "source ~/thesis/venv/bin/activate\n",
    "python ~/thesis/translate.py -t {lang}\n",
    "deactivate\n",
    "\n",
    "\"\"\""
   ]
  },
  {
   "cell_type": "code",
   "execution_count": 38,
   "metadata": {},
   "outputs": [],
   "source": [
    "for lang in langs_to_translate[\"lang\"]:\n",
    "    with open(f\"../translation/jobs/translate_{lang}.sh\", \"w\") as f:\n",
    "        f.write(JOB_TEMPLATE.format(lang=lang))"
   ]
  },
  {
   "cell_type": "code",
   "execution_count": 34,
   "metadata": {},
   "outputs": [],
   "source": [
    "# Sort langs_to_translate by \"lang\"\n",
    "langs_to_translate = langs_to_translate.sort_values(\"lang\")"
   ]
  },
  {
   "cell_type": "code",
   "execution_count": 36,
   "metadata": {},
   "outputs": [],
   "source": [
    "langs_to_translate.to_csv(\"langs_to_translate.csv\", index=False)"
   ]
  }
 ],
 "metadata": {
  "kernelspec": {
   "display_name": "Python 3",
   "language": "python",
   "name": "python3"
  },
  "language_info": {
   "codemirror_mode": {
    "name": "ipython",
    "version": 3
   },
   "file_extension": ".py",
   "mimetype": "text/x-python",
   "name": "python",
   "nbconvert_exporter": "python",
   "pygments_lexer": "ipython3",
   "version": "3.11.7"
  }
 },
 "nbformat": 4,
 "nbformat_minor": 2
}
