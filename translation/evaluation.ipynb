{
 "cells": [
  {
   "cell_type": "markdown",
   "metadata": {},
   "source": [
    "# Translation Evaluation"
   ]
  },
  {
   "cell_type": "code",
   "execution_count": 1,
   "metadata": {},
   "outputs": [],
   "source": [
    "import os\n",
    "\n",
    "import pandas as pd\n",
    "from sacrebleu.metrics import BLEU, CHRF"
   ]
  },
  {
   "cell_type": "markdown",
   "metadata": {},
   "source": [
    "## Initializing Translation Scores DataFrame"
   ]
  },
  {
   "cell_type": "code",
   "execution_count": null,
   "metadata": {},
   "outputs": [],
   "source": [
    "scores = pd.DataFrame(\n",
    "    columns=[\"lang\", \"BLEU_num_beams_1\", \"chrF++_num_beams_1\", \"COMET_num_beams_1\"]\n",
    ")"
   ]
  },
  {
   "cell_type": "markdown",
   "metadata": {},
   "source": [
    "## Translation Quality Scores for Beam Size of 1"
   ]
  },
  {
   "cell_type": "code",
   "execution_count": null,
   "metadata": {},
   "outputs": [],
   "source": [
    "lang_data = pd.read_csv(\"../lang_data/lang_data.csv\")"
   ]
  },
  {
   "cell_type": "code",
   "execution_count": null,
   "metadata": {},
   "outputs": [],
   "source": [
    "# Mapping from language to language-specific BLEU tokenizers\n",
    "BLEU_LANG_MAP = {\n",
    "    \"cmn_Hans\": \"zh\",\n",
    "    \"cmn_Hant\": \"zh\",\n",
    "    \"jpn_Jpan\": \"ja\",\n",
    "    \"kor_Hang\": \"ko\"\n",
    "}"
   ]
  },
  {
   "cell_type": "code",
   "execution_count": null,
   "metadata": {},
   "outputs": [],
   "source": [
    "for lang in lang_data[\"lang\"]:\n",
    "    if f\"hyp.{lang}_1\" not in os.listdir(\"translations/num_beams_1/\"): continue\n",
    "    # Reference sentences\n",
    "    with open(f\"../floresp-v2.0-rc.2/dev/dev.{lang}\") as ref:\n",
    "        sents_ref = [line.strip() for line in ref.readlines()]\n",
    "    # Translated sentences\n",
    "    with open(f\"translations/num_beams_1/hyp.{lang}_1\") as hyp:\n",
    "        sents_hyp = [line.strip() for line in hyp.readlines()]\n",
    "    trg_lang = BLEU_LANG_MAP.get(lang, None)\n",
    "    bleu_score = BLEU(trg_lang=trg_lang).corpus_score(sents_hyp, [sents_ref]).score\n",
    "    chrf_score = CHRF(word_order=2).corpus_score(sents_hyp, [sents_ref]).score\n",
    "    lang_scores = {\n",
    "        \"lang\": lang,\n",
    "        \"BLEU_num_beams_1\": bleu_score,\n",
    "        \"chrF++_num_beams_1\": chrf_score\n",
    "    }\n",
    "    scores = scores.append(lang_scores, ignore_index=True)"
   ]
  },
  {
   "cell_type": "code",
   "execution_count": null,
   "metadata": {
    "vscode": {
     "languageId": "shellscript"
    }
   },
   "outputs": [],
   "source": [
    "sbatch comet.sh  # To be run on the cluster"
   ]
  }
 ],
 "metadata": {
  "kernelspec": {
   "display_name": "Python 3",
   "language": "python",
   "name": "python3"
  },
  "language_info": {
   "codemirror_mode": {
    "name": "ipython",
    "version": 3
   },
   "file_extension": ".py",
   "mimetype": "text/x-python",
   "name": "python",
   "nbconvert_exporter": "python",
   "pygments_lexer": "ipython3",
   "version": "3.11.7"
  }
 },
 "nbformat": 4,
 "nbformat_minor": 2
}
