{
 "cells": [
  {
   "cell_type": "code",
   "execution_count": null,
   "metadata": {},
   "outputs": [],
   "source": [
    "from transformers import AutoModelForSeq2SeqLM, AutoTokenizer"
   ]
  },
  {
   "cell_type": "code",
   "execution_count": null,
   "metadata": {},
   "outputs": [],
   "source": [
    "tokenizer = AutoTokenizer.from_pretrained(\"facebook/nllb-200-3.3B\")\n",
    "model = AutoModelForSeq2SeqLM.from_pretrained(\"facebook/nllb-200-3.3B\")"
   ]
  },
  {
   "cell_type": "code",
   "execution_count": null,
   "metadata": {},
   "outputs": [],
   "source": [
    "with open(\"floresp-v2.0-alpha.2/dev/dev.eng_Latn\", encoding=\"UTF-8\") as f:\n",
    "    sentences = f.readlines()\n",
    "\n",
    "translations = []\n",
    "\n",
    "for sentence in sentences:\n",
    "    inputs = tokenizer(sentence, return_tensors=\"pt\")\n",
    "    translated_tokens = model.generate(\n",
    "        **inputs,\n",
    "        forced_bos_token_id=tokenizer.lang_code_to_id[\"fra_Latn\"],\n",
    "        num_beams=1,\n",
    "    )\n",
    "    translation = tokenizer.batch_decode(translated_tokens, skip_special_tokens=True)[0]\n",
    "    translations.append(translation)\n",
    "\n",
    "translations = \"\\n\".join(translations)\n",
    "\n",
    "with open(\"hyp.fra_Latn\", \"w\", encoding=\"UTF-8\") as f:\n",
    "    f.writelines(translations)"
   ]
  },
  {
   "cell_type": "code",
   "execution_count": 31,
   "metadata": {},
   "outputs": [
    {
     "name": "stdout",
     "output_type": "stream",
     "text": [
      "start_time:\t1708305354\n",
      "c6+w2-F2\t56.1733\n",
      "c6+w2-avgF2\t56.1312\n",
      "c6+w2-Prec\t59.8474\n",
      "c6+w2-Rec\t55.3247\n",
      "end_time:\t1708305355\n"
     ]
    }
   ],
   "source": [
    "! python3.11 chrF++.py -R floresp-v2.0-alpha.2/dev/dev.ita_Latn -H translations/1_beam/hyp.ita_Latn"
   ]
  },
  {
   "cell_type": "code",
   "execution_count": 13,
   "metadata": {},
   "outputs": [
    {
     "data": {
      "text/plain": [
       "58.8"
      ]
     },
     "execution_count": 13,
     "metadata": {},
     "output_type": "execute_result"
    }
   ],
   "source": [
    "round(58.8396, 1)"
   ]
  },
  {
   "cell_type": "code",
   "execution_count": 6,
   "metadata": {},
   "outputs": [
    {
     "name": "stdout",
     "output_type": "stream",
     "text": [
      "[\n",
      "{\n",
      " \"name\": \"BLEU\",\n",
      " \"score\": 41.3,\n",
      " \"signature\": \"nrefs:1|case:mixed|eff:no|tok:13a|smooth:exp|version:2.4.0\",\n",
      " \"verbose_score\": \"71.7/49.4/35.0/25.3 (BP = 0.981 ratio = 0.981 hyp_len = 31003 ref_len = 31609)\",\n",
      " \"nrefs\": \"1\",\n",
      " \"case\": \"mixed\",\n",
      " \"eff\": \"no\",\n",
      " \"tok\": \"13a\",\n",
      " \"smooth\": \"exp\",\n",
      " \"version\": \"2.4.0\"\n",
      "},\n",
      "{\n",
      " \"name\": \"chrF2++\",\n",
      " \"score\": 59.5,\n",
      " \"signature\": \"nrefs:1|case:mixed|eff:yes|nc:6|nw:2|space:no|version:2.4.0\",\n",
      " \"nrefs\": \"1\",\n",
      " \"case\": \"mixed\",\n",
      " \"eff\": \"yes\",\n",
      " \"nc\": \"6\",\n",
      " \"nw\": \"2\",\n",
      " \"space\": \"no\",\n",
      " \"version\": \"2.4.0\"\n",
      "},\n",
      "{\n",
      " \"name\": \"TER\",\n",
      " \"score\": 44.0,\n",
      " \"signature\": \"nrefs:1|case:lc|tok:tercom|norm:no|punct:yes|asian:no|version:2.4.0\",\n",
      " \"nrefs\": \"1\",\n",
      " \"case\": \"lc\",\n",
      " \"tok\": \"tercom\",\n",
      " \"norm\": \"no\",\n",
      " \"punct\": \"yes\",\n",
      " \"asian\": \"no\",\n",
      " \"version\": \"2.4.0\"\n",
      "}\n",
      "]\n",
      "\u001b[0m"
     ]
    }
   ],
   "source": [
    "! sacrebleu floresp-v2.0-alpha.2/dev/dev.vie_Latn -i translations/10_beams/hyp.vie_Latn -m bleu chrf ter --chrf-word-order 2"
   ]
  },
  {
   "cell_type": "code",
   "execution_count": null,
   "metadata": {},
   "outputs": [],
   "source": [
    "! comet-score -s floresp-v2.0-alpha.2/dev/dev.eng_Latn -t translations/1_beam/hyp.arb_Arab -r floresp-v2.0-alpha.2/dev/dev.arb_Arab"
   ]
  }
 ],
 "metadata": {
  "kernelspec": {
   "display_name": "Python 3",
   "language": "python",
   "name": "python3"
  },
  "language_info": {
   "codemirror_mode": {
    "name": "ipython",
    "version": 3
   },
   "file_extension": ".py",
   "mimetype": "text/x-python",
   "name": "python",
   "nbconvert_exporter": "python",
   "pygments_lexer": "ipython3",
   "version": "3.11.7"
  }
 },
 "nbformat": 4,
 "nbformat_minor": 2
}
